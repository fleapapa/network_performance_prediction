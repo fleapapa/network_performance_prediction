{
 "cells": [
  {
   "cell_type": "code",
   "execution_count": 1,
   "metadata": {},
   "outputs": [
    {
     "name": "stderr",
     "output_type": "stream",
     "text": [
      "/usr/lib64/python2.7/dist-packages/matplotlib/__init__.py:1401: UserWarning:  This call to matplotlib.use() has no effect\n",
      "because the backend has already been chosen;\n",
      "matplotlib.use() must be called *before* pylab, matplotlib.pyplot,\n",
      "or matplotlib.backends is imported for the first time.\n",
      "\n",
      "  warnings.warn(_use_error_msg)\n"
     ]
    }
   ],
   "source": [
    "'''\n",
    "This notebook utilizes Tensorflow library to train a Deep Neural Network (DNN) using \n",
    "the same data set as used in regressors.ipynb and for the same network prediction\n",
    "purpose of regressors.ipynb.\n",
    "\n",
    "When compared with the regressors in regressors.ipynb especially RandomForestRegressor\n",
    "and KNeighborsRegressor, Tensorflow DNN regressor has less prediction score and spends\n",
    "more time.\n",
    "'''\n",
    "%matplotlib inline\n",
    "import matplotlib\n",
    "matplotlib.use('Agg')\n",
    "import matplotlib.pyplot as plt\n",
    "\n",
    "import random\n",
    "import pandas\n",
    "import numpy\n",
    "import time\n",
    "\n",
    "from sklearn import metrics\n",
    "from sklearn import preprocessing\n",
    "from sklearn import datasets, metrics\n",
    "from sklearn.model_selection import train_test_split\n",
    "\n",
    "import tensorflow\n",
    "import tensorflow.contrib.learn as learn"
   ]
  },
  {
   "cell_type": "code",
   "execution_count": 2,
   "metadata": {},
   "outputs": [
    {
     "name": "stdout",
     "output_type": "stream",
     "text": [
      "CPU times: user 4.61 s, sys: 596 ms, total: 5.21 s\n",
      "Wall time: 5.21 s\n"
     ]
    }
   ],
   "source": [
    "%%time\n",
    "# use the same dataset as used by recommender\n",
    "df_raw = pandas.read_csv('../data/etl2M.csv',header=None)\n",
    "df_x = df_raw.ix[:, 1:17]   # x = features (observations)\n",
    "df_y = df_raw.ix[:, 18]     # y = labels\n",
    "\n",
    "x_train, x_test, y_train, y_test = train_test_split(df_x, df_y, \n",
    "    test_size=500, \n",
    "    random_state=42,\n",
    "    )"
   ]
  },
  {
   "cell_type": "code",
   "execution_count": 3,
   "metadata": {},
   "outputs": [
    {
     "name": "stdout",
     "output_type": "stream",
     "text": [
      "CPU times: user 512 ms, sys: 500 ms, total: 1.01 s\n",
      "Wall time: 1.01 s\n"
     ]
    }
   ],
   "source": [
    "%%time\n",
    "# do feature scaling, because \"Multi-layer Perceptron is sensitive to feature scaling\" \n",
    "from sklearn.preprocessing import StandardScaler  \n",
    "\n",
    "scaler = StandardScaler()  \n",
    "scaler.fit(x_train)\n",
    "\n",
    "x_train = scaler.transform(x_train)  \n",
    "x_test  = scaler.transform(x_test)  "
   ]
  },
  {
   "cell_type": "code",
   "execution_count": 4,
   "metadata": {
    "scrolled": false
   },
   "outputs": [
    {
     "name": "stdout",
     "output_type": "stream",
     "text": [
      "WARNING:tensorflow:From /usr/lib/python2.7/dist-packages/tensorflow/contrib/learn/python/learn/monitors.py:322: __init__ (from tensorflow.contrib.learn.python.learn.monitors) is deprecated and will be removed after 2016-12-05.\n",
      "Instructions for updating:\n",
      "Monitors are deprecated. Please use tf.train.SessionRunHook.\n",
      "WARNING:tensorflow:float64 is not supported by many models, consider casting to float32.\n",
      "INFO:tensorflow:Using default config.\n",
      "INFO:tensorflow:Using config: {'_save_checkpoints_secs': 600, '_num_ps_replicas': 0, '_keep_checkpoint_max': 5, '_tf_random_seed': None, '_task_type': None, '_environment': 'local', '_is_chief': True, '_cluster_spec': <tensorflow.python.training.server_lib.ClusterSpec object at 0x7fa21bbe5050>, '_tf_config': gpu_options {\n",
      "  per_process_gpu_memory_fraction: 1.0\n",
      "}\n",
      ", '_task_id': 0, '_save_summary_steps': 100, '_save_checkpoints_steps': None, '_evaluation_master': '', '_keep_checkpoint_every_n_hours': 10000, '_master': ''}\n",
      "WARNING:tensorflow:From <timed exec>:51: calling fit (from tensorflow.contrib.learn.python.learn.estimators.estimator) with y is deprecated and will be removed after 2016-12-01.\n",
      "Instructions for updating:\n",
      "Estimator is decoupled from Scikit Learn interface by moving into\n",
      "separate class SKCompat. Arguments x, y and batch_size are only\n",
      "available in the SKCompat class, Estimator will only accept input_fn.\n",
      "Example conversion:\n",
      "  est = Estimator(...) -> est = SKCompat(Estimator(...))\n",
      "WARNING:tensorflow:From <timed exec>:51: calling fit (from tensorflow.contrib.learn.python.learn.estimators.estimator) with x is deprecated and will be removed after 2016-12-01.\n",
      "Instructions for updating:\n",
      "Estimator is decoupled from Scikit Learn interface by moving into\n",
      "separate class SKCompat. Arguments x, y and batch_size are only\n",
      "available in the SKCompat class, Estimator will only accept input_fn.\n",
      "Example conversion:\n",
      "  est = Estimator(...) -> est = SKCompat(Estimator(...))\n",
      "WARNING:tensorflow:From <timed exec>:51: calling fit (from tensorflow.contrib.learn.python.learn.estimators.estimator) with batch_size is deprecated and will be removed after 2016-12-01.\n",
      "Instructions for updating:\n",
      "Estimator is decoupled from Scikit Learn interface by moving into\n",
      "separate class SKCompat. Arguments x, y and batch_size are only\n",
      "available in the SKCompat class, Estimator will only accept input_fn.\n",
      "Example conversion:\n",
      "  est = Estimator(...) -> est = SKCompat(Estimator(...))\n",
      "WARNING:tensorflow:float64 is not supported by many models, consider casting to float32.\n",
      "WARNING:tensorflow:From /usr/lib/python2.7/dist-packages/tensorflow/contrib/learn/python/learn/estimators/head.py:1362: scalar_summary (from tensorflow.python.ops.logging_ops) is deprecated and will be removed after 2016-11-30.\n",
      "Instructions for updating:\n",
      "Please switch to tf.summary.scalar. Note that tf.summary.scalar uses the node name instead of the tag. This means that TensorFlow will automatically de-duplicate summary names based on the scope they are created in. Also, passing a tensor or list of tags to a scalar summary op is no longer supported.\n"
     ]
    },
    {
     "name": "stderr",
     "output_type": "stream",
     "text": [
      "/usr/lib/python2.7/dist-packages/tensorflow/python/util/deprecation.py:247: FutureWarning: comparison to `None` will result in an elementwise object comparison in the future.\n",
      "  equality = a == b\n"
     ]
    },
    {
     "name": "stdout",
     "output_type": "stream",
     "text": [
      "INFO:tensorflow:Create CheckpointSaverHook.\n",
      "INFO:tensorflow:Saving checkpoints for 1 into /data/tmp/tf/tb/dnnr/model.ckpt.\n",
      "INFO:tensorflow:loss = 5660.52, step = 1\n",
      "WARNING:tensorflow:From /usr/lib/python2.7/dist-packages/tensorflow/contrib/learn/python/learn/estimators/dnn.py:635: calling evaluate (from tensorflow.contrib.learn.python.learn.estimators.estimator) with y is deprecated and will be removed after 2016-12-01.\n",
      "Instructions for updating:\n",
      "Estimator is decoupled from Scikit Learn interface by moving into\n",
      "separate class SKCompat. Arguments x, y and batch_size are only\n",
      "available in the SKCompat class, Estimator will only accept input_fn.\n",
      "Example conversion:\n",
      "  est = Estimator(...) -> est = SKCompat(Estimator(...))\n",
      "WARNING:tensorflow:From /usr/lib/python2.7/dist-packages/tensorflow/contrib/learn/python/learn/estimators/dnn.py:635: calling evaluate (from tensorflow.contrib.learn.python.learn.estimators.estimator) with x is deprecated and will be removed after 2016-12-01.\n",
      "Instructions for updating:\n",
      "Estimator is decoupled from Scikit Learn interface by moving into\n",
      "separate class SKCompat. Arguments x, y and batch_size are only\n",
      "available in the SKCompat class, Estimator will only accept input_fn.\n",
      "Example conversion:\n",
      "  est = Estimator(...) -> est = SKCompat(Estimator(...))\n",
      "WARNING:tensorflow:float64 is not supported by many models, consider casting to float32.\n",
      "WARNING:tensorflow:From /usr/lib/python2.7/dist-packages/tensorflow/contrib/learn/python/learn/estimators/head.py:1362: scalar_summary (from tensorflow.python.ops.logging_ops) is deprecated and will be removed after 2016-11-30.\n",
      "Instructions for updating:\n",
      "Please switch to tf.summary.scalar. Note that tf.summary.scalar uses the node name instead of the tag. This means that TensorFlow will automatically de-duplicate summary names based on the scope they are created in. Also, passing a tensor or list of tags to a scalar summary op is no longer supported.\n",
      "INFO:tensorflow:Starting evaluation at 2017-08-27-01:50:16\n",
      "INFO:tensorflow:Finished evaluation at 2017-08-27-01:50:16\n",
      "INFO:tensorflow:Saving dict for global step 1: accuracy = 0.008, global_step = 1, loss = 2584.89, precision = 1.0, recall = 1.0\n",
      "WARNING:tensorflow:Skipping summary for global_step, must be a float or np.float32.\n",
      "INFO:tensorflow:Validation (step 50): loss = 2584.89, global_step = 1, recall = 1.0, precision = 1.0, accuracy = 0.008\n",
      "INFO:tensorflow:global_step/sec: 0.335746\n",
      "INFO:tensorflow:loss = 290.425, step = 101\n",
      "INFO:tensorflow:global_step/sec: 0.340135\n",
      "INFO:tensorflow:loss = 266.728, step = 201\n",
      "INFO:tensorflow:Saving checkpoints for 204 into /data/tmp/tf/tb/dnnr/model.ckpt.\n",
      "WARNING:tensorflow:From /usr/lib/python2.7/dist-packages/tensorflow/contrib/learn/python/learn/estimators/dnn.py:635: calling evaluate (from tensorflow.contrib.learn.python.learn.estimators.estimator) with y is deprecated and will be removed after 2016-12-01.\n",
      "Instructions for updating:\n",
      "Estimator is decoupled from Scikit Learn interface by moving into\n",
      "separate class SKCompat. Arguments x, y and batch_size are only\n",
      "available in the SKCompat class, Estimator will only accept input_fn.\n",
      "Example conversion:\n",
      "  est = Estimator(...) -> est = SKCompat(Estimator(...))\n",
      "WARNING:tensorflow:From /usr/lib/python2.7/dist-packages/tensorflow/contrib/learn/python/learn/estimators/dnn.py:635: calling evaluate (from tensorflow.contrib.learn.python.learn.estimators.estimator) with x is deprecated and will be removed after 2016-12-01.\n",
      "Instructions for updating:\n",
      "Estimator is decoupled from Scikit Learn interface by moving into\n",
      "separate class SKCompat. Arguments x, y and batch_size are only\n",
      "available in the SKCompat class, Estimator will only accept input_fn.\n",
      "Example conversion:\n",
      "  est = Estimator(...) -> est = SKCompat(Estimator(...))\n",
      "WARNING:tensorflow:float64 is not supported by many models, consider casting to float32.\n",
      "WARNING:tensorflow:From /usr/lib/python2.7/dist-packages/tensorflow/contrib/learn/python/learn/estimators/head.py:1362: scalar_summary (from tensorflow.python.ops.logging_ops) is deprecated and will be removed after 2016-11-30.\n",
      "Instructions for updating:\n",
      "Please switch to tf.summary.scalar. Note that tf.summary.scalar uses the node name instead of the tag. This means that TensorFlow will automatically de-duplicate summary names based on the scope they are created in. Also, passing a tensor or list of tags to a scalar summary op is no longer supported.\n",
      "INFO:tensorflow:Starting evaluation at 2017-08-27-02:00:07\n",
      "INFO:tensorflow:Finished evaluation at 2017-08-27-02:00:07\n",
      "INFO:tensorflow:Saving dict for global step 204: accuracy = 0.032, global_step = 204, loss = 271.32, precision = 1.0, recall = 1.0\n",
      "WARNING:tensorflow:Skipping summary for global_step, must be a float or np.float32.\n",
      "INFO:tensorflow:Validation (step 250): loss = 271.32, global_step = 204, recall = 1.0, precision = 1.0, accuracy = 0.032\n",
      "INFO:tensorflow:Stopping. Best step: 50 with accuracy = 0.00800000037998.\n",
      "INFO:tensorflow:Saving checkpoints for 250 into /data/tmp/tf/tb/dnnr/model.ckpt.\n",
      "INFO:tensorflow:Loss for final step: 255.466.\n",
      "WARNING:tensorflow:From <timed exec>:54: calling predict (from tensorflow.contrib.learn.python.learn.estimators.dnn) with as_iterable=False is deprecated and will be removed after 2016-09-15.\n",
      "Instructions for updating:\n",
      "The default behavior of predict() is changing. The default value for\n",
      "as_iterable will change to True, and then the flag will be removed\n",
      "altogether. The behavior of this flag is described below.\n",
      "WARNING:tensorflow:From /usr/lib/python2.7/dist-packages/tensorflow/contrib/learn/python/learn/estimators/dnn.py:662: calling predict_scores (from tensorflow.contrib.learn.python.learn.estimators.dnn) with as_iterable=False is deprecated and will be removed after 2016-09-15.\n",
      "Instructions for updating:\n",
      "The default behavior of predict() is changing. The default value for\n",
      "as_iterable will change to True, and then the flag will be removed\n",
      "altogether. The behavior of this flag is described below.\n",
      "WARNING:tensorflow:From /usr/lib/python2.7/dist-packages/tensorflow/contrib/learn/python/learn/estimators/dnn.py:692: calling predict (from tensorflow.contrib.learn.python.learn.estimators.estimator) with x is deprecated and will be removed after 2016-12-01.\n",
      "Instructions for updating:\n",
      "Estimator is decoupled from Scikit Learn interface by moving into\n",
      "separate class SKCompat. Arguments x, y and batch_size are only\n",
      "available in the SKCompat class, Estimator will only accept input_fn.\n",
      "Example conversion:\n",
      "  est = Estimator(...) -> est = SKCompat(Estimator(...))\n",
      "WARNING:tensorflow:From /usr/lib/python2.7/dist-packages/tensorflow/contrib/learn/python/learn/estimators/dnn.py:692: calling predict (from tensorflow.contrib.learn.python.learn.estimators.estimator) with as_iterable is deprecated and will be removed after 2016-12-01.\n",
      "Instructions for updating:\n",
      "Estimator is decoupled from Scikit Learn interface by moving into\n",
      "separate class SKCompat. Arguments x, y and batch_size are only\n",
      "available in the SKCompat class, Estimator will only accept input_fn.\n",
      "Example conversion:\n",
      "  est = Estimator(...) -> est = SKCompat(Estimator(...))\n",
      "WARNING:tensorflow:float64 is not supported by many models, consider casting to float32.\n"
     ]
    },
    {
     "data": {
      "image/png": "[encoded data removed]",
      "text/plain": [
       "<matplotlib.figure.Figure at 0x7fa2089e2090>"
      ]
     },
     "metadata": {},
     "output_type": "display_data"
    },
    {
     "name": "stdout",
     "output_type": "stream",
     "text": [
      "CPU times: user 11min 54s, sys: 1.9 s, total: 11min 56s\n",
      "Wall time: 12min 25s\n"
     ]
    },
    {
     "data": {
      "text/plain": [
       "<matplotlib.figure.Figure at 0x7fa23da58dd0>"
      ]
     },
     "metadata": {},
     "output_type": "display_data"
    }
   ],
   "source": [
    "%%time\n",
    "# create a validation monitor\n",
    "validation_metrics = {\n",
    "    \"accuracy\":\n",
    "        tensorflow.contrib.learn.MetricSpec(\n",
    "        metric_fn=tensorflow.contrib.metrics.streaming_accuracy,\n",
    "#        prediction_key=\"classes\"),\n",
    "        prediction_key=\"scores\"\n",
    "        ),\n",
    "    \"precision\":\n",
    "        tensorflow.contrib.learn.MetricSpec(\n",
    "        metric_fn=tensorflow.contrib.metrics.streaming_precision,\n",
    "#        prediction_key=\"classes\"),\n",
    "        prediction_key=\"scores\"\n",
    "        ),\n",
    "    \"recall\":\n",
    "        tensorflow.contrib.learn.MetricSpec(\n",
    "        metric_fn=tensorflow.contrib.metrics.streaming_recall,\n",
    "#        prediction_key=\"classes\"),\n",
    "        prediction_key=\"scores\"\n",
    "        ),\n",
    "}\n",
    "\n",
    "validation_monitor = tensorflow.contrib.learn.monitors.ValidationMonitor(\n",
    "      x_test,\n",
    "      y_test,\n",
    "      every_n_steps = 50,\n",
    "      metrics = validation_metrics,\n",
    "      early_stopping_metric_minimize = True,\n",
    "      early_stopping_rounds = 200,\n",
    "      early_stopping_metric = \"accuracy\",  #\"loss\",\n",
    ")\n",
    "\n",
    "# create DNN regressor\n",
    "algo_name = 'DNNRegressor'\n",
    "feature_columns = learn.infer_real_valued_columns_from_input(x_train)\n",
    "\n",
    "regressor = learn.DNNRegressor(\n",
    "    feature_columns = feature_columns, \n",
    "    hidden_units = [400, 200, 100], \n",
    "    model_dir = \"/data/tmp/tf/tb/dnnr\",\n",
    "    )\n",
    "\n",
    "# begin train\n",
    "tstart = time.time()\n",
    "regressor.fit(\n",
    "    x = x_train, \n",
    "    y = y_train,\n",
    "    steps = 2000,\n",
    "    # limit batch_size, or dimension of gradient tensor too large !!!\n",
    "    batch_size = x_train.shape[0] / 10, \n",
    "    monitors = [validation_monitor]\n",
    "    )\n",
    "\n",
    "y_predicted = regressor.predict(x = x_test, as_iterable = False)\n",
    "score = metrics.r2_score(y_test, y_predicted)\n",
    "score = 'r2_score={0:f}'.format(score)\n",
    "tend = time.time()\n",
    "\n",
    "tsec = tend - tstart\n",
    "tmin = tsec // 60\n",
    "tsec = tsec %  60\n",
    "thrs = tmin // 60\n",
    "tmin = tmin %  60\n",
    "tuse = 'time=%02d:%02d:%02d' % (thrs, tmin, tsec)\n",
    "\n",
    "# sort to make plot look not so fuzzy\n",
    "# intact y_test & y_predicted for next iteration or algorithm!!!\n",
    "p_test, p_predicted = zip(*sorted(zip(y_test, y_predicted)))\n",
    "\n",
    "fig, ax = plt.subplots()\n",
    "fig.set_size_inches(16, 8)\n",
    "plt.scatter(numpy.arange(1, x_test.shape[0]+1, 1), p_test,      c='b', label='ground truth') \n",
    "plt.scatter(numpy.arange(1, x_test.shape[0]+1, 1), p_predicted, c='r', label='prediction')                                                                                                  \n",
    "plt.axis('tight')                                                                                                                           \n",
    "plt.legend()                                                                                                                                \n",
    "plt.title(\"%s: %s %s\" % (algo_name, tuse, score))                                                                                                                                      \n",
    "plt.show()                                                                                                                                      \n",
    "plt.savefig(\"/data/tmp/%s.png\" % algo_name) \n"
   ]
  },
  {
   "cell_type": "markdown",
   "metadata": {
    "collapsed": true
   },
   "source": [
    "Nvidia K80 GPU shortens the execution time of this script from 58:37 to 12:24. It is x5 speedup.\n",
    "\n",
    "From console log of jupyter notebook below, the execution of this script did use GPU:\n",
    "\n",
    "[I 01:47:16.096 NotebookApp] Adapting to protocol v5.1 for kernel 50c0e466-09a2-4eb1-8379-d797a52297eb\n",
    "\n",
    "I tensorflow/stream_executor/dso_loader.cc:135] successfully opened CUDA library libcublas.so.7.5 locally\n",
    "\n",
    "I tensorflow/stream_executor/dso_loader.cc:135] successfully opened CUDA library libcudnn.so.5 locally\n",
    "\n",
    "I tensorflow/stream_executor/dso_loader.cc:135] successfully opened CUDA library libcufft.so.7.5 locally\n",
    "\n",
    "I tensorflow/stream_executor/dso_loader.cc:135] successfully opened CUDA library libcuda.so.1 locally\n",
    "\n",
    "I tensorflow/stream_executor/dso_loader.cc:135] successfully opened CUDA library libcurand.so.7.5 locally\n",
    "\n",
    "I tensorflow/core/common_runtime/gpu/gpu_device.cc:885] Found device 0 with properties: \n",
    "\n",
    "name: Tesla K80\n",
    "\n",
    "major: 3 minor: 7 memoryClockRate (GHz) 0.8235\n",
    "\n",
    "pciBusID 0000:00:1e.0\n",
    "\n",
    "Total memory: 11.17GiB\n",
    "\n",
    "Free memory: 11.11GiB\n",
    "\n",
    "I tensorflow/core/common_runtime/gpu/gpu_device.cc:906] DMA: 0 \n",
    "\n",
    "I tensorflow/core/common_runtime/gpu/gpu_device.cc:916] 0:   Y \n",
    "\n",
    "[I 01:49:15.581 NotebookApp] Saving file at /dnnr.ipynb\n",
    "\n",
    "I tensorflow/core/common_runtime/gpu/gpu_device.cc:975] Creating TensorFlow device (/gpu:0) -> (device: 0, name: Tesla K80, pci bus id: 0000:00:1e.0)\n",
    "\n",
    "[I 01:51:15.539 NotebookApp] Saving file at /dnnr.ipynb\n"
   ]
  }
 ],
 "metadata": {
  "kernelspec": {
   "display_name": "Python 2",
   "language": "python",
   "name": "python2"
  },
  "language_info": {
   "codemirror_mode": {
    "name": "ipython",
    "version": 2
   },
   "file_extension": ".py",
   "mimetype": "text/x-python",
   "name": "python",
   "nbconvert_exporter": "python",
   "pygments_lexer": "ipython2",
   "version": "2.7.12"
  }
 },
 "nbformat": 4,
 "nbformat_minor": 2
}
